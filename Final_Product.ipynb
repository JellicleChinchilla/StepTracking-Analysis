{
 "cells": [
  {
   "cell_type": "markdown",
   "id": "0a431dc5",
   "metadata": {},
   "source": [
    "# Introduction\n",
    "\n",
    "With the popularity of healthy lifestyle, people are more and more concerned about their daily exercise.  Among them, the number of steps, as a simple and easy to obtain health indicator, has been adopted by the majority of people. Especially in today's world, many smart wearables and apps can easily track users' daily steps, providing them with health feedback. This notebook aims to explore a fascinating question: \"For these individuals, if they are more active in the morning, will their daily step count be higher?\" In other words, we want to know if morning activity is associated with a person's overall daily activity.\n",
    "\n",
    "Initially, we read step data from the 'hourlySteps_merged.csv' file and conducted some basic data cleaning and processing, such as converting the 'ActivityHour' column into a datetime format. We then grouped and analyzed the data by user ID, exploring user step data from various angles. For instance, we plotted a bar graph showing the average active hours for each user and a box plot to display the maximum steps per hour for different ID users. To specifically study the relationship between morning activity and daily steps, we extracted the steps of each user between 6 AM and 12 noon, calculating the total steps during this period. We also calculated the daily step count for each user. Using this data, we displayed the relationship between morning steps and daily steps with scatter plots and a fitting line and calculated the correlation coefficient. Lastly, we further explored the median step count. We divided users into two groups, one with a morning step median higher than the overall median and the other lower. Then, we drew a box plot for these two groups to show the distribution of daily steps for both and used a 2 sample t-test to assess whether the difference between the two groups was significant.\n"
   ]
  },
  {
   "cell_type": "markdown",
   "id": "b6a5279e",
   "metadata": {},
   "source": [
    "### Assumptions\n",
    "\n",
    "- Assume the data file 'hourlySteps_merged.csv' is complete, and each record corresponds to a person's step count at a specific time.\n",
    "\n",
    "- Assume each user's record is continuous without breaks. If a user's data is less than 24 hours, it might be due to device issues or other reasons.\n",
    "\n",
    "- All step count data is assumed to be accurate, without human manipulation or errors.\n",
    "\n",
    "- The time period from 6 AM to 12 AM can reflect a person's morning activity.\n",
    "\n",
    "- The median is considered a good metric that can reflect the typical steps of users."
   ]
  },
  {
   "cell_type": "markdown",
   "id": "6244afb2",
   "metadata": {},
   "source": [
    "### Prediction:\n",
    "\n",
    "People who are active in the morning will be more energetic in the morning, and they will have a higher step count throughout the day.\n",
    "\n",
    "> Studies on exercise and biological rhythms provide insights into this issue. Atkinson and Speirs (1998) explored the performance of athletes at different times, indirectly revealing how active times might influence an individual's daily activity. The association between morning exercise and improved sleep quality (Youngstedt et al., 1997) suggests that morning activity might have a positive impact on daily activity and step counts."
   ]
  },
  {
   "cell_type": "markdown",
   "id": "ab3654ef",
   "metadata": {},
   "source": [
    "# Code part"
   ]
  },
  {
   "cell_type": "markdown",
   "id": "81ab98a5",
   "metadata": {},
   "source": [
    "## Import Package\n",
    "Import data modules from data to facilitate development, where pandas is used for data analysis, plt and sns are used for graphics processing and visualization and np is used for array calculations."
   ]
  },
  {
   "cell_type": "code",
   "execution_count": 1,
   "id": "aaa8e3d1",
   "metadata": {},
   "outputs": [],
   "source": [
    "import pandas as pd\n",
    "import matplotlib.pyplot as plt\n",
    "import seaborn as sns\n",
    "import numpy as np"
   ]
  },
  {
   "cell_type": "markdown",
   "id": "2a5d7f47",
   "metadata": {},
   "source": [
    "### Import data file and check infomation for each columns\n",
    "Use pd to import data from the csv file, and use the info method to view the data columns, missing values, and data types.\n",
    "\n",
    "From the results obtained, we found that there are three columns in the data, namely id, time, and total number of steps. There are no missing values in the data because the count is in non-null format and there are 22099 columns. From the data type, we can observe that the format of id and stepTotal is int, while the format of ActivityHour is object."
   ]
  },
  {
   "cell_type": "code",
   "execution_count": 4,
   "id": "74cc5de9",
   "metadata": {},
   "outputs": [
    {
     "name": "stdout",
     "output_type": "stream",
     "text": [
      "<class 'pandas.core.frame.DataFrame'>\n",
      "RangeIndex: 22099 entries, 0 to 22098\n",
      "Data columns (total 3 columns):\n",
      " #   Column        Non-Null Count  Dtype \n",
      "---  ------        --------------  ----- \n",
      " 0   Id            22099 non-null  int64 \n",
      " 1   ActivityHour  22099 non-null  object\n",
      " 2   StepTotal     22099 non-null  int64 \n",
      "dtypes: int64(2), object(1)\n",
      "memory usage: 518.1+ KB\n"
     ]
    }
   ],
   "source": [
    "step_hours = pd.read_csv('hourlySteps_merged.csv')\n",
    "step_hours.info()"
   ]
  },
  {
   "cell_type": "markdown",
   "id": "9d07e01c",
   "metadata": {},
   "source": [
    "The following code helps us view the data for the first five columns, and it is worth noting from the data that activity hours are formatted as steps per hour. For our driving problems, just looking at steps per hour is not enough to answer our driving problems. For a more accurate estimate, we need to look at the number of steps per day and the number of steps in a specific time period, so for ease of programming. We need to change the format to datetime"
   ]
  },
  {
   "cell_type": "code",
   "execution_count": 5,
   "id": "ac1f5ed2",
   "metadata": {},
   "outputs": [
    {
     "data": {
      "text/html": [
       "<div>\n",
       "<style scoped>\n",
       "    .dataframe tbody tr th:only-of-type {\n",
       "        vertical-align: middle;\n",
       "    }\n",
       "\n",
       "    .dataframe tbody tr th {\n",
       "        vertical-align: top;\n",
       "    }\n",
       "\n",
       "    .dataframe thead th {\n",
       "        text-align: right;\n",
       "    }\n",
       "</style>\n",
       "<table border=\"1\" class=\"dataframe\">\n",
       "  <thead>\n",
       "    <tr style=\"text-align: right;\">\n",
       "      <th></th>\n",
       "      <th>Id</th>\n",
       "      <th>ActivityHour</th>\n",
       "      <th>StepTotal</th>\n",
       "    </tr>\n",
       "  </thead>\n",
       "  <tbody>\n",
       "    <tr>\n",
       "      <th>0</th>\n",
       "      <td>1503960366</td>\n",
       "      <td>4/12/2016 12:00:00 AM</td>\n",
       "      <td>373</td>\n",
       "    </tr>\n",
       "    <tr>\n",
       "      <th>1</th>\n",
       "      <td>1503960366</td>\n",
       "      <td>4/12/2016 1:00:00 AM</td>\n",
       "      <td>160</td>\n",
       "    </tr>\n",
       "    <tr>\n",
       "      <th>2</th>\n",
       "      <td>1503960366</td>\n",
       "      <td>4/12/2016 2:00:00 AM</td>\n",
       "      <td>151</td>\n",
       "    </tr>\n",
       "    <tr>\n",
       "      <th>3</th>\n",
       "      <td>1503960366</td>\n",
       "      <td>4/12/2016 3:00:00 AM</td>\n",
       "      <td>0</td>\n",
       "    </tr>\n",
       "    <tr>\n",
       "      <th>4</th>\n",
       "      <td>1503960366</td>\n",
       "      <td>4/12/2016 4:00:00 AM</td>\n",
       "      <td>0</td>\n",
       "    </tr>\n",
       "  </tbody>\n",
       "</table>\n",
       "</div>"
      ],
      "text/plain": [
       "           Id           ActivityHour  StepTotal\n",
       "0  1503960366  4/12/2016 12:00:00 AM        373\n",
       "1  1503960366   4/12/2016 1:00:00 AM        160\n",
       "2  1503960366   4/12/2016 2:00:00 AM        151\n",
       "3  1503960366   4/12/2016 3:00:00 AM          0\n",
       "4  1503960366   4/12/2016 4:00:00 AM          0"
      ]
     },
     "execution_count": 5,
     "metadata": {},
     "output_type": "execute_result"
    }
   ],
   "source": [
    "step_hours.head()"
   ]
  },
  {
   "cell_type": "markdown",
   "id": "2d1ad62e",
   "metadata": {},
   "source": [
    "In order to prevent the conversion from affecting the original data, copy is used to copy the original data, and then datetime is used to transform it. Then we can see from info that the data type has changed to datetime at this time"
   ]
  },
  {
   "cell_type": "code",
   "execution_count": 6,
   "id": "2334a4f2",
   "metadata": {},
   "outputs": [
    {
     "name": "stdout",
     "output_type": "stream",
     "text": [
      "<class 'pandas.core.frame.DataFrame'>\n",
      "RangeIndex: 22099 entries, 0 to 22098\n",
      "Data columns (total 3 columns):\n",
      " #   Column        Non-Null Count  Dtype         \n",
      "---  ------        --------------  -----         \n",
      " 0   Id            22099 non-null  int64         \n",
      " 1   ActivityHour  22099 non-null  datetime64[ns]\n",
      " 2   StepTotal     22099 non-null  int64         \n",
      "dtypes: datetime64[ns](1), int64(2)\n",
      "memory usage: 518.1 KB\n"
     ]
    }
   ],
   "source": [
    "step_hours_copy = step_hours.copy()\n",
    "step_hours_copy['ActivityHour'] = pd.to_datetime(step_hours_copy['ActivityHour'])\n",
    "step_hours_copy.info()"
   ]
  },
  {
   "cell_type": "markdown",
   "id": "bdfefc6a",
   "metadata": {},
   "source": [
    "## Data Exploration"
   ]
  },
  {
   "cell_type": "markdown",
   "id": "8f5f8197",
   "metadata": {},
   "source": [
    "In order to accurately calculate the driving problem, the data needs to be explored and properly cleaned before analysis"
   ]
  },
  {
   "cell_type": "markdown",
   "id": "8dd83e33",
   "metadata": {},
   "source": [
    "### Number of days recorded for different IDs\n",
    "According to previous research, each piece of data corresponds to a different hour of a different day. To explore the number of record days for different ids, we can divide the total number of record lines for different ids by 24 to get the different days.\n",
    "\n",
    "From the data, we found that most people work for about 30 days. In order to view the data more intuitively, we can use histograms to view the distribution of the data"
   ]
  },
  {
   "cell_type": "code",
   "execution_count": 7,
   "id": "36edc923",
   "metadata": {},
   "outputs": [
    {
     "data": {
      "text/plain": [
       "Id\n",
       "1503960366    29.875000\n",
       "1624580081    30.666667\n",
       "1644430081    29.500000\n",
       "1844505072    30.458333\n",
       "1927972279    30.666667\n",
       "2022484408    30.666667\n",
       "2026352035    30.666667\n",
       "2320127002    30.625000\n",
       "2347167796    17.250000\n",
       "2873212765    30.666667\n",
       "3372868164    19.666667\n",
       "3977333714    29.000000\n",
       "4020332650    30.500000\n",
       "4057192912     3.666667\n",
       "4319703577    30.166667\n",
       "4388161847    30.625000\n",
       "4445114986    30.625000\n",
       "4558609924    30.666667\n",
       "4702921684    30.458333\n",
       "5553957443    30.416667\n",
       "5577150313    29.500000\n",
       "6117666160    27.500000\n",
       "6290855005    27.708333\n",
       "6775888955    25.416667\n",
       "6962181067    30.500000\n",
       "7007744171    25.041667\n",
       "7086361926    30.541667\n",
       "8053475328    30.625000\n",
       "8253242879    17.958333\n",
       "8378563200    30.625000\n",
       "8583815059    29.916667\n",
       "8792009665    28.000000\n",
       "8877689391    30.625000\n",
       "Name: ActivityHour, dtype: float64"
      ]
     },
     "execution_count": 7,
     "metadata": {},
     "output_type": "execute_result"
    }
   ],
   "source": [
    "step_hours.groupby(\"Id\")[\"ActivityHour\"].count()/24"
   ]
  },
  {
   "cell_type": "markdown",
   "id": "bc0acaee",
   "metadata": {},
   "source": [
    "According to the results of the histogram, like what we have observed from the data, most of the data are recorded for about 30 days, but there are still some outliers, such as 5 data recorded for less than 20 days. However, these ids do not need to be recorded as outliers, because for our driven question, morning activities are not related to the number of days. We are more concerned about whether the daily data is normal."
   ]
  },
  {
   "cell_type": "code",
   "execution_count": 8,
   "id": "9442e69a",
   "metadata": {},
   "outputs": [
    {
     "data": {
      "image/png": "[encoded data removed]",
      "text/plain": [
       "<Figure size 1000x600 with 1 Axes>"
      ]
     },
     "metadata": {},
     "output_type": "display_data"
    }
   ],
   "source": [
    "activity_hours_per_day = step_hours.groupby(\"Id\")[\"ActivityHour\"].count() / 24\n",
    "\n",
    "plt.figure(figsize=(10, 6))\n",
    "plt.hist(activity_hours_per_day, bins=30, edgecolor='black')\n",
    "\n",
    "plt.xlabel('ID')\n",
    "plt.ylabel('Activity Hours Per Day')\n",
    "plt.title('Boxplot of Activity Hours Per Day by ID')\n",
    "plt.show()"
   ]
  },
  {
   "cell_type": "markdown",
   "id": "e762ded6",
   "metadata": {},
   "source": [
    "### Number of steps per hour with different IDs\n",
    "\n",
    "The following data shows the number of steps per hour for different ids. For a more intuitive analysis. We need to block the data and visualize it."
   ]
  },
  {
   "cell_type": "code",
   "execution_count": 9,
   "id": "46e15016",
   "metadata": {},
   "outputs": [
    {
     "data": {
      "text/html": [
       "<div>\n",
       "<style scoped>\n",
       "    .dataframe tbody tr th:only-of-type {\n",
       "        vertical-align: middle;\n",
       "    }\n",
       "\n",
       "    .dataframe tbody tr th {\n",
       "        vertical-align: top;\n",
       "    }\n",
       "\n",
       "    .dataframe thead th {\n",
       "        text-align: right;\n",
       "    }\n",
       "</style>\n",
       "<table border=\"1\" class=\"dataframe\">\n",
       "  <thead>\n",
       "    <tr style=\"text-align: right;\">\n",
       "      <th></th>\n",
       "      <th>count</th>\n",
       "      <th>mean</th>\n",
       "      <th>std</th>\n",
       "      <th>min</th>\n",
       "      <th>25%</th>\n",
       "      <th>50%</th>\n",
       "      <th>75%</th>\n",
       "      <th>max</th>\n",
       "    </tr>\n",
       "    <tr>\n",
       "      <th>Id</th>\n",
       "      <th></th>\n",
       "      <th></th>\n",
       "      <th></th>\n",
       "      <th></th>\n",
       "      <th></th>\n",
       "      <th></th>\n",
       "      <th></th>\n",
       "      <th></th>\n",
       "    </tr>\n",
       "  </thead>\n",
       "  <tbody>\n",
       "    <tr>\n",
       "      <th>1503960366</th>\n",
       "      <td>717.0</td>\n",
       "      <td>522.379358</td>\n",
       "      <td>836.484941</td>\n",
       "      <td>0.0</td>\n",
       "      <td>8.0</td>\n",
       "      <td>178.0</td>\n",
       "      <td>554.00</td>\n",
       "      <td>5934.0</td>\n",
       "    </tr>\n",
       "    <tr>\n",
       "      <th>1624580081</th>\n",
       "      <td>736.0</td>\n",
       "      <td>241.508152</td>\n",
       "      <td>760.458172</td>\n",
       "      <td>0.0</td>\n",
       "      <td>0.0</td>\n",
       "      <td>28.5</td>\n",
       "      <td>180.00</td>\n",
       "      <td>8976.0</td>\n",
       "    </tr>\n",
       "    <tr>\n",
       "      <th>1644430081</th>\n",
       "      <td>708.0</td>\n",
       "      <td>307.806497</td>\n",
       "      <td>589.610641</td>\n",
       "      <td>0.0</td>\n",
       "      <td>0.0</td>\n",
       "      <td>22.5</td>\n",
       "      <td>354.75</td>\n",
       "      <td>4660.0</td>\n",
       "    </tr>\n",
       "    <tr>\n",
       "      <th>1844505072</th>\n",
       "      <td>731.0</td>\n",
       "      <td>109.359781</td>\n",
       "      <td>232.059128</td>\n",
       "      <td>0.0</td>\n",
       "      <td>0.0</td>\n",
       "      <td>0.0</td>\n",
       "      <td>91.00</td>\n",
       "      <td>2043.0</td>\n",
       "    </tr>\n",
       "    <tr>\n",
       "      <th>1927972279</th>\n",
       "      <td>736.0</td>\n",
       "      <td>38.586957</td>\n",
       "      <td>164.172857</td>\n",
       "      <td>0.0</td>\n",
       "      <td>0.0</td>\n",
       "      <td>0.0</td>\n",
       "      <td>0.00</td>\n",
       "      <td>2109.0</td>\n",
       "    </tr>\n",
       "    <tr>\n",
       "      <th>2022484408</th>\n",
       "      <td>736.0</td>\n",
       "      <td>477.869565</td>\n",
       "      <td>861.297289</td>\n",
       "      <td>0.0</td>\n",
       "      <td>0.0</td>\n",
       "      <td>101.5</td>\n",
       "      <td>624.75</td>\n",
       "      <td>5596.0</td>\n",
       "    </tr>\n",
       "    <tr>\n",
       "      <th>2026352035</th>\n",
       "      <td>736.0</td>\n",
       "      <td>233.788043</td>\n",
       "      <td>321.686789</td>\n",
       "      <td>0.0</td>\n",
       "      <td>0.0</td>\n",
       "      <td>117.0</td>\n",
       "      <td>322.25</td>\n",
       "      <td>2375.0</td>\n",
       "    </tr>\n",
       "    <tr>\n",
       "      <th>2320127002</th>\n",
       "      <td>735.0</td>\n",
       "      <td>198.687075</td>\n",
       "      <td>277.884927</td>\n",
       "      <td>0.0</td>\n",
       "      <td>0.0</td>\n",
       "      <td>35.0</td>\n",
       "      <td>341.50</td>\n",
       "      <td>2208.0</td>\n",
       "    </tr>\n",
       "    <tr>\n",
       "      <th>2347167796</th>\n",
       "      <td>414.0</td>\n",
       "      <td>413.857488</td>\n",
       "      <td>749.229701</td>\n",
       "      <td>0.0</td>\n",
       "      <td>0.0</td>\n",
       "      <td>130.5</td>\n",
       "      <td>381.50</td>\n",
       "      <td>5291.0</td>\n",
       "    </tr>\n",
       "    <tr>\n",
       "      <th>2873212765</th>\n",
       "      <td>736.0</td>\n",
       "      <td>318.111413</td>\n",
       "      <td>497.306414</td>\n",
       "      <td>0.0</td>\n",
       "      <td>0.0</td>\n",
       "      <td>125.0</td>\n",
       "      <td>446.75</td>\n",
       "      <td>4534.0</td>\n",
       "    </tr>\n",
       "    <tr>\n",
       "      <th>3372868164</th>\n",
       "      <td>472.0</td>\n",
       "      <td>290.375000</td>\n",
       "      <td>430.116403</td>\n",
       "      <td>0.0</td>\n",
       "      <td>0.0</td>\n",
       "      <td>147.0</td>\n",
       "      <td>425.50</td>\n",
       "      <td>3084.0</td>\n",
       "    </tr>\n",
       "    <tr>\n",
       "      <th>3977333714</th>\n",
       "      <td>696.0</td>\n",
       "      <td>471.614943</td>\n",
       "      <td>907.917149</td>\n",
       "      <td>0.0</td>\n",
       "      <td>0.0</td>\n",
       "      <td>79.5</td>\n",
       "      <td>453.50</td>\n",
       "      <td>5414.0</td>\n",
       "    </tr>\n",
       "    <tr>\n",
       "      <th>4020332650</th>\n",
       "      <td>732.0</td>\n",
       "      <td>93.441257</td>\n",
       "      <td>262.923318</td>\n",
       "      <td>0.0</td>\n",
       "      <td>0.0</td>\n",
       "      <td>0.0</td>\n",
       "      <td>0.00</td>\n",
       "      <td>2737.0</td>\n",
       "    </tr>\n",
       "    <tr>\n",
       "      <th>4057192912</th>\n",
       "      <td>88.0</td>\n",
       "      <td>173.920455</td>\n",
       "      <td>269.038869</td>\n",
       "      <td>0.0</td>\n",
       "      <td>0.0</td>\n",
       "      <td>0.0</td>\n",
       "      <td>243.25</td>\n",
       "      <td>1115.0</td>\n",
       "    </tr>\n",
       "    <tr>\n",
       "      <th>4319703577</th>\n",
       "      <td>724.0</td>\n",
       "      <td>289.314917</td>\n",
       "      <td>461.844330</td>\n",
       "      <td>0.0</td>\n",
       "      <td>0.0</td>\n",
       "      <td>49.5</td>\n",
       "      <td>401.00</td>\n",
       "      <td>3547.0</td>\n",
       "    </tr>\n",
       "    <tr>\n",
       "      <th>4388161847</th>\n",
       "      <td>735.0</td>\n",
       "      <td>435.054422</td>\n",
       "      <td>703.102854</td>\n",
       "      <td>0.0</td>\n",
       "      <td>0.0</td>\n",
       "      <td>186.0</td>\n",
       "      <td>527.00</td>\n",
       "      <td>5237.0</td>\n",
       "    </tr>\n",
       "    <tr>\n",
       "      <th>4445114986</th>\n",
       "      <td>735.0</td>\n",
       "      <td>202.106122</td>\n",
       "      <td>409.691985</td>\n",
       "      <td>0.0</td>\n",
       "      <td>0.0</td>\n",
       "      <td>83.0</td>\n",
       "      <td>270.00</td>\n",
       "      <td>4379.0</td>\n",
       "    </tr>\n",
       "    <tr>\n",
       "      <th>4558609924</th>\n",
       "      <td>736.0</td>\n",
       "      <td>323.245924</td>\n",
       "      <td>546.790099</td>\n",
       "      <td>0.0</td>\n",
       "      <td>0.0</td>\n",
       "      <td>148.5</td>\n",
       "      <td>433.00</td>\n",
       "      <td>4688.0</td>\n",
       "    </tr>\n",
       "    <tr>\n",
       "      <th>4702921684</th>\n",
       "      <td>731.0</td>\n",
       "      <td>363.281806</td>\n",
       "      <td>525.848697</td>\n",
       "      <td>0.0</td>\n",
       "      <td>0.0</td>\n",
       "      <td>149.0</td>\n",
       "      <td>556.00</td>\n",
       "      <td>3962.0</td>\n",
       "    </tr>\n",
       "    <tr>\n",
       "      <th>5553957443</th>\n",
       "      <td>730.0</td>\n",
       "      <td>365.624658</td>\n",
       "      <td>672.951229</td>\n",
       "      <td>0.0</td>\n",
       "      <td>0.0</td>\n",
       "      <td>83.0</td>\n",
       "      <td>393.50</td>\n",
       "      <td>5808.0</td>\n",
       "    </tr>\n",
       "    <tr>\n",
       "      <th>5577150313</th>\n",
       "      <td>708.0</td>\n",
       "      <td>351.015537</td>\n",
       "      <td>613.008832</td>\n",
       "      <td>0.0</td>\n",
       "      <td>0.0</td>\n",
       "      <td>93.5</td>\n",
       "      <td>382.00</td>\n",
       "      <td>4181.0</td>\n",
       "    </tr>\n",
       "    <tr>\n",
       "      <th>6117666160</th>\n",
       "      <td>660.0</td>\n",
       "      <td>281.322727</td>\n",
       "      <td>405.128621</td>\n",
       "      <td>0.0</td>\n",
       "      <td>0.0</td>\n",
       "      <td>7.0</td>\n",
       "      <td>530.00</td>\n",
       "      <td>2448.0</td>\n",
       "    </tr>\n",
       "    <tr>\n",
       "      <th>6290855005</th>\n",
       "      <td>665.0</td>\n",
       "      <td>246.132331</td>\n",
       "      <td>409.715329</td>\n",
       "      <td>0.0</td>\n",
       "      <td>0.0</td>\n",
       "      <td>0.0</td>\n",
       "      <td>382.00</td>\n",
       "      <td>3258.0</td>\n",
       "    </tr>\n",
       "    <tr>\n",
       "      <th>6775888955</th>\n",
       "      <td>610.0</td>\n",
       "      <td>107.165574</td>\n",
       "      <td>376.089167</td>\n",
       "      <td>0.0</td>\n",
       "      <td>0.0</td>\n",
       "      <td>0.0</td>\n",
       "      <td>0.00</td>\n",
       "      <td>3629.0</td>\n",
       "    </tr>\n",
       "    <tr>\n",
       "      <th>6962181067</th>\n",
       "      <td>732.0</td>\n",
       "      <td>414.782787</td>\n",
       "      <td>772.705452</td>\n",
       "      <td>0.0</td>\n",
       "      <td>0.0</td>\n",
       "      <td>76.5</td>\n",
       "      <td>561.00</td>\n",
       "      <td>5890.0</td>\n",
       "    </tr>\n",
       "    <tr>\n",
       "      <th>7007744171</th>\n",
       "      <td>601.0</td>\n",
       "      <td>489.865225</td>\n",
       "      <td>922.631151</td>\n",
       "      <td>0.0</td>\n",
       "      <td>0.0</td>\n",
       "      <td>114.0</td>\n",
       "      <td>613.00</td>\n",
       "      <td>6017.0</td>\n",
       "    </tr>\n",
       "    <tr>\n",
       "      <th>7086361926</th>\n",
       "      <td>733.0</td>\n",
       "      <td>392.227831</td>\n",
       "      <td>885.156944</td>\n",
       "      <td>0.0</td>\n",
       "      <td>0.0</td>\n",
       "      <td>45.0</td>\n",
       "      <td>336.00</td>\n",
       "      <td>6357.0</td>\n",
       "    </tr>\n",
       "    <tr>\n",
       "      <th>8053475328</th>\n",
       "      <td>735.0</td>\n",
       "      <td>622.398639</td>\n",
       "      <td>1305.463567</td>\n",
       "      <td>0.0</td>\n",
       "      <td>0.0</td>\n",
       "      <td>53.0</td>\n",
       "      <td>402.50</td>\n",
       "      <td>7643.0</td>\n",
       "    </tr>\n",
       "    <tr>\n",
       "      <th>8253242879</th>\n",
       "      <td>431.0</td>\n",
       "      <td>285.006961</td>\n",
       "      <td>878.947972</td>\n",
       "      <td>0.0</td>\n",
       "      <td>0.0</td>\n",
       "      <td>0.0</td>\n",
       "      <td>196.50</td>\n",
       "      <td>7652.0</td>\n",
       "    </tr>\n",
       "    <tr>\n",
       "      <th>8378563200</th>\n",
       "      <td>735.0</td>\n",
       "      <td>366.945578</td>\n",
       "      <td>685.301940</td>\n",
       "      <td>0.0</td>\n",
       "      <td>9.0</td>\n",
       "      <td>172.0</td>\n",
       "      <td>416.00</td>\n",
       "      <td>5661.0</td>\n",
       "    </tr>\n",
       "    <tr>\n",
       "      <th>8583815059</th>\n",
       "      <td>718.0</td>\n",
       "      <td>245.403900</td>\n",
       "      <td>612.167994</td>\n",
       "      <td>0.0</td>\n",
       "      <td>0.0</td>\n",
       "      <td>0.0</td>\n",
       "      <td>175.00</td>\n",
       "      <td>6554.0</td>\n",
       "    </tr>\n",
       "    <tr>\n",
       "      <th>8792009665</th>\n",
       "      <td>672.0</td>\n",
       "      <td>79.985119</td>\n",
       "      <td>180.495781</td>\n",
       "      <td>0.0</td>\n",
       "      <td>0.0</td>\n",
       "      <td>0.0</td>\n",
       "      <td>68.25</td>\n",
       "      <td>1332.0</td>\n",
       "    </tr>\n",
       "    <tr>\n",
       "      <th>8877689391</th>\n",
       "      <td>735.0</td>\n",
       "      <td>674.317007</td>\n",
       "      <td>1322.209588</td>\n",
       "      <td>0.0</td>\n",
       "      <td>0.0</td>\n",
       "      <td>309.0</td>\n",
       "      <td>773.50</td>\n",
       "      <td>10554.0</td>\n",
       "    </tr>\n",
       "  </tbody>\n",
       "</table>\n",
       "</div>"
      ],
      "text/plain": [
       "            count        mean          std  min  25%    50%     75%      max\n",
       "Id                                                                          \n",
       "1503960366  717.0  522.379358   836.484941  0.0  8.0  178.0  554.00   5934.0\n",
       "1624580081  736.0  241.508152   760.458172  0.0  0.0   28.5  180.00   8976.0\n",
       "1644430081  708.0  307.806497   589.610641  0.0  0.0   22.5  354.75   4660.0\n",
       "1844505072  731.0  109.359781   232.059128  0.0  0.0    0.0   91.00   2043.0\n",
       "1927972279  736.0   38.586957   164.172857  0.0  0.0    0.0    0.00   2109.0\n",
       "2022484408  736.0  477.869565   861.297289  0.0  0.0  101.5  624.75   5596.0\n",
       "2026352035  736.0  233.788043   321.686789  0.0  0.0  117.0  322.25   2375.0\n",
       "2320127002  735.0  198.687075   277.884927  0.0  0.0   35.0  341.50   2208.0\n",
       "2347167796  414.0  413.857488   749.229701  0.0  0.0  130.5  381.50   5291.0\n",
       "2873212765  736.0  318.111413   497.306414  0.0  0.0  125.0  446.75   4534.0\n",
       "3372868164  472.0  290.375000   430.116403  0.0  0.0  147.0  425.50   3084.0\n",
       "3977333714  696.0  471.614943   907.917149  0.0  0.0   79.5  453.50   5414.0\n",
       "4020332650  732.0   93.441257   262.923318  0.0  0.0    0.0    0.00   2737.0\n",
       "4057192912   88.0  173.920455   269.038869  0.0  0.0    0.0  243.25   1115.0\n",
       "4319703577  724.0  289.314917   461.844330  0.0  0.0   49.5  401.00   3547.0\n",
       "4388161847  735.0  435.054422   703.102854  0.0  0.0  186.0  527.00   5237.0\n",
       "4445114986  735.0  202.106122   409.691985  0.0  0.0   83.0  270.00   4379.0\n",
       "4558609924  736.0  323.245924   546.790099  0.0  0.0  148.5  433.00   4688.0\n",
       "4702921684  731.0  363.281806   525.848697  0.0  0.0  149.0  556.00   3962.0\n",
       "5553957443  730.0  365.624658   672.951229  0.0  0.0   83.0  393.50   5808.0\n",
       "5577150313  708.0  351.015537   613.008832  0.0  0.0   93.5  382.00   4181.0\n",
       "6117666160  660.0  281.322727   405.128621  0.0  0.0    7.0  530.00   2448.0\n",
       "6290855005  665.0  246.132331   409.715329  0.0  0.0    0.0  382.00   3258.0\n",
       "6775888955  610.0  107.165574   376.089167  0.0  0.0    0.0    0.00   3629.0\n",
       "6962181067  732.0  414.782787   772.705452  0.0  0.0   76.5  561.00   5890.0\n",
       "7007744171  601.0  489.865225   922.631151  0.0  0.0  114.0  613.00   6017.0\n",
       "7086361926  733.0  392.227831   885.156944  0.0  0.0   45.0  336.00   6357.0\n",
       "8053475328  735.0  622.398639  1305.463567  0.0  0.0   53.0  402.50   7643.0\n",
       "8253242879  431.0  285.006961   878.947972  0.0  0.0    0.0  196.50   7652.0\n",
       "8378563200  735.0  366.945578   685.301940  0.0  9.0  172.0  416.00   5661.0\n",
       "8583815059  718.0  245.403900   612.167994  0.0  0.0    0.0  175.00   6554.0\n",
       "8792009665  672.0   79.985119   180.495781  0.0  0.0    0.0   68.25   1332.0\n",
       "8877689391  735.0  674.317007  1322.209588  0.0  0.0  309.0  773.50  10554.0"
      ]
     },
     "execution_count": 9,
     "metadata": {},
     "output_type": "execute_result"
    }
   ],
   "source": [
    "step_hours.groupby(\"Id\")[\"StepTotal\"].describe()"
   ]
  },
  {
   "cell_type": "markdown",
   "id": "7d203529",
   "metadata": {},
   "source": [
    "Based on the definition of steps, our preliminary prediction is that everyone's minimum should be 0 because they need to sleep. According to the following results, the minimum values of 33 groups of data are all 0, which verifies that our conjecture is correct."
   ]
  },
  {
   "cell_type": "code",
   "execution_count": 10,
   "id": "c9fa0f60",
   "metadata": {},
   "outputs": [
    {
     "data": {
      "text/plain": [
       "count    33.0\n",
       "mean      0.0\n",
       "std       0.0\n",
       "min       0.0\n",
       "25%       0.0\n",
       "50%       0.0\n",
       "75%       0.0\n",
       "max       0.0\n",
       "Name: StepTotal, dtype: float64"
      ]
     },
     "execution_count": 10,
     "metadata": {},
     "output_type": "execute_result"
    }
   ],
   "source": [
    "step_hours.groupby(\"Id\")[\"StepTotal\"].min().describe()"
   ]
  },
  {
   "cell_type": "markdown",
   "id": "65cab31b",
   "metadata": {},
   "source": [
    "The histogram below shows the highest number of steps per hour for different ids. It can be found from the figure that there is an outlier. Combined with the above table, it is found that this value comes from 8877689391, and its highest value is 10,554 steps. And according to Christine's post on September 20, 2022: [What Is a Good 10k Time for Beginners to Advanced Runners?](https://www.verywellfit.com/how-long-will-it-take-to-run-a-10k-2911115) It notes that the average runner's 10K time is about an hour. \n",
    "[Elliot Basser](https://healthybeat.com/fitness/steps-in-miles-kilometers/) puts it at 1,200-1,500 steps per kilometer. In other words, if 8877689391 is a continuous run for an hour, the data of 10054 is possible. So there are no outliers.\n",
    "\n",
    "\n"
   ]
  },
  {
   "cell_type": "code",
   "execution_count": 11,
   "id": "0de6a2d2",
   "metadata": {},
   "outputs": [
    {
     "data": {
      "image/png": "[encoded data removed]",
      "text/plain": [
       "<Figure size 640x480 with 1 Axes>"
      ]
     },
     "metadata": {},
     "output_type": "display_data"
    }
   ],
   "source": [
    "max_distribution = step_hours.groupby(\"Id\")[\"StepTotal\"].max()\n",
    "\n",
    "sns.boxplot(y=max_distribution)\n",
    "\n",
    "plt.ylabel('Steps')\n",
    "plt.title('Maximum number of steps per hour with different IDs')\n",
    "plt.show()"
   ]
  },
  {
   "cell_type": "markdown",
   "id": "c8e644f2",
   "metadata": {},
   "source": [
    "## Data Conversion\n",
    "\n",
    "Because the number of steps per hour is not enough to answer our driving questions. Therefore, some transformation of the data is required, mainly to merge according to time. To meet the data needs of driving problems.\n",
    "\n",
    "To explore our driving problems, whether more activity in these people in the morning was more activity throughout the day. We first need to define the definition of morning, generally speaking, we think that the definition of morning is from the time of getting up until noon, so the definition of six to twelve is appropriate.\n",
    "\n",
    "So we need to add up the number of steps from 6 a.m. to 12 a.m., depending on the number of days with different ids."
   ]
  },
  {
   "cell_type": "code",
   "execution_count": 12,
   "id": "2b63e2bc",
   "metadata": {},
   "outputs": [
    {
     "data": {
      "text/html": [
       "<div>\n",
       "<style scoped>\n",
       "    .dataframe tbody tr th:only-of-type {\n",
       "        vertical-align: middle;\n",
       "    }\n",
       "\n",
       "    .dataframe tbody tr th {\n",
       "        vertical-align: top;\n",
       "    }\n",
       "\n",
       "    .dataframe thead th {\n",
       "        text-align: right;\n",
       "    }\n",
       "</style>\n",
       "<table border=\"1\" class=\"dataframe\">\n",
       "  <thead>\n",
       "    <tr style=\"text-align: right;\">\n",
       "      <th></th>\n",
       "      <th>Id</th>\n",
       "      <th>Date</th>\n",
       "      <th>StepTotal_6to12</th>\n",
       "    </tr>\n",
       "  </thead>\n",
       "  <tbody>\n",
       "    <tr>\n",
       "      <th>0</th>\n",
       "      <td>1503960366</td>\n",
       "      <td>2016-04-12</td>\n",
       "      <td>3403</td>\n",
       "    </tr>\n",
       "    <tr>\n",
       "      <th>1</th>\n",
       "      <td>1503960366</td>\n",
       "      <td>2016-04-13</td>\n",
       "      <td>3385</td>\n",
       "    </tr>\n",
       "    <tr>\n",
       "      <th>2</th>\n",
       "      <td>1503960366</td>\n",
       "      <td>2016-04-14</td>\n",
       "      <td>2559</td>\n",
       "    </tr>\n",
       "    <tr>\n",
       "      <th>3</th>\n",
       "      <td>1503960366</td>\n",
       "      <td>2016-04-15</td>\n",
       "      <td>932</td>\n",
       "    </tr>\n",
       "    <tr>\n",
       "      <th>4</th>\n",
       "      <td>1503960366</td>\n",
       "      <td>2016-04-16</td>\n",
       "      <td>6308</td>\n",
       "    </tr>\n",
       "    <tr>\n",
       "      <th>...</th>\n",
       "      <td>...</td>\n",
       "      <td>...</td>\n",
       "      <td>...</td>\n",
       "    </tr>\n",
       "    <tr>\n",
       "      <th>926</th>\n",
       "      <td>8877689391</td>\n",
       "      <td>2016-05-08</td>\n",
       "      <td>3168</td>\n",
       "    </tr>\n",
       "    <tr>\n",
       "      <th>927</th>\n",
       "      <td>8877689391</td>\n",
       "      <td>2016-05-09</td>\n",
       "      <td>6748</td>\n",
       "    </tr>\n",
       "    <tr>\n",
       "      <th>928</th>\n",
       "      <td>8877689391</td>\n",
       "      <td>2016-05-10</td>\n",
       "      <td>6319</td>\n",
       "    </tr>\n",
       "    <tr>\n",
       "      <th>929</th>\n",
       "      <td>8877689391</td>\n",
       "      <td>2016-05-11</td>\n",
       "      <td>6933</td>\n",
       "    </tr>\n",
       "    <tr>\n",
       "      <th>930</th>\n",
       "      <td>8877689391</td>\n",
       "      <td>2016-05-12</td>\n",
       "      <td>6813</td>\n",
       "    </tr>\n",
       "  </tbody>\n",
       "</table>\n",
       "<p>931 rows × 3 columns</p>\n",
       "</div>"
      ],
      "text/plain": [
       "             Id        Date  StepTotal_6to12\n",
       "0    1503960366  2016-04-12             3403\n",
       "1    1503960366  2016-04-13             3385\n",
       "2    1503960366  2016-04-14             2559\n",
       "3    1503960366  2016-04-15              932\n",
       "4    1503960366  2016-04-16             6308\n",
       "..          ...         ...              ...\n",
       "926  8877689391  2016-05-08             3168\n",
       "927  8877689391  2016-05-09             6748\n",
       "928  8877689391  2016-05-10             6319\n",
       "929  8877689391  2016-05-11             6933\n",
       "930  8877689391  2016-05-12             6813\n",
       "\n",
       "[931 rows x 3 columns]"
      ]
     },
     "execution_count": 12,
     "metadata": {},
     "output_type": "execute_result"
    }
   ],
   "source": [
    "step_hours['ActivityHour'] = pd.to_datetime(step_hours['ActivityHour'])\n",
    "\n",
    "# Extract the Date, Hour, and ID from the 'ActivityHour' column\n",
    "step_hours['Date'] = step_hours['ActivityHour'].dt.date\n",
    "step_hours['Hour'] = step_hours['ActivityHour'].dt.hour\n",
    "\n",
    "# Filter the data for hours from 6 AM to 12 PM (inclusive)\n",
    "filtered_data = step_hours[(step_hours['Hour'] >= 6) & (step_hours['Hour'] <= 12)]\n",
    "\n",
    "# Group the data by 'Id' and 'Date' and calculate the total step count for each day\n",
    "step_count_6am_to_12pm = filtered_data.groupby(['Id', 'Date'])['StepTotal'].sum().reset_index()\n",
    "\n",
    "# Rename the 'StepTotal' column to 'StepTotal_6to12'\n",
    "step_count_6am_to_12pm = step_count_6am_to_12pm.rename(columns={'StepTotal': 'StepTotal_6to12'})\n",
    "step_count_6am_to_12pm"
   ]
  },
  {
   "cell_type": "markdown",
   "id": "760dfe01",
   "metadata": {},
   "source": [
    "After the morning data is generated, we also need to seek data for our dependent variables. In the case of driving problems, we also need to ask for all-day data. So we need to add up the number of steps per hour for the day based on the number of days on the day."
   ]
  },
  {
   "cell_type": "code",
   "execution_count": 13,
   "id": "114c7d7c",
   "metadata": {},
   "outputs": [
    {
     "data": {
      "text/html": [
       "<div>\n",
       "<style scoped>\n",
       "    .dataframe tbody tr th:only-of-type {\n",
       "        vertical-align: middle;\n",
       "    }\n",
       "\n",
       "    .dataframe tbody tr th {\n",
       "        vertical-align: top;\n",
       "    }\n",
       "\n",
       "    .dataframe thead th {\n",
       "        text-align: right;\n",
       "    }\n",
       "</style>\n",
       "<table border=\"1\" class=\"dataframe\">\n",
       "  <thead>\n",
       "    <tr style=\"text-align: right;\">\n",
       "      <th></th>\n",
       "      <th>Id</th>\n",
       "      <th>Date</th>\n",
       "      <th>TotalStepCount</th>\n",
       "    </tr>\n",
       "  </thead>\n",
       "  <tbody>\n",
       "    <tr>\n",
       "      <th>0</th>\n",
       "      <td>1503960366</td>\n",
       "      <td>2016-04-12</td>\n",
       "      <td>13158</td>\n",
       "    </tr>\n",
       "    <tr>\n",
       "      <th>1</th>\n",
       "      <td>1503960366</td>\n",
       "      <td>2016-04-13</td>\n",
       "      <td>10735</td>\n",
       "    </tr>\n",
       "    <tr>\n",
       "      <th>2</th>\n",
       "      <td>1503960366</td>\n",
       "      <td>2016-04-14</td>\n",
       "      <td>10460</td>\n",
       "    </tr>\n",
       "    <tr>\n",
       "      <th>3</th>\n",
       "      <td>1503960366</td>\n",
       "      <td>2016-04-15</td>\n",
       "      <td>9685</td>\n",
       "    </tr>\n",
       "    <tr>\n",
       "      <th>4</th>\n",
       "      <td>1503960366</td>\n",
       "      <td>2016-04-16</td>\n",
       "      <td>12669</td>\n",
       "    </tr>\n",
       "    <tr>\n",
       "      <th>...</th>\n",
       "      <td>...</td>\n",
       "      <td>...</td>\n",
       "      <td>...</td>\n",
       "    </tr>\n",
       "    <tr>\n",
       "      <th>929</th>\n",
       "      <td>8877689391</td>\n",
       "      <td>2016-05-08</td>\n",
       "      <td>10665</td>\n",
       "    </tr>\n",
       "    <tr>\n",
       "      <th>930</th>\n",
       "      <td>8877689391</td>\n",
       "      <td>2016-05-09</td>\n",
       "      <td>20156</td>\n",
       "    </tr>\n",
       "    <tr>\n",
       "      <th>931</th>\n",
       "      <td>8877689391</td>\n",
       "      <td>2016-05-10</td>\n",
       "      <td>10693</td>\n",
       "    </tr>\n",
       "    <tr>\n",
       "      <th>932</th>\n",
       "      <td>8877689391</td>\n",
       "      <td>2016-05-11</td>\n",
       "      <td>21391</td>\n",
       "    </tr>\n",
       "    <tr>\n",
       "      <th>933</th>\n",
       "      <td>8877689391</td>\n",
       "      <td>2016-05-12</td>\n",
       "      <td>7577</td>\n",
       "    </tr>\n",
       "  </tbody>\n",
       "</table>\n",
       "<p>934 rows × 3 columns</p>\n",
       "</div>"
      ],
      "text/plain": [
       "             Id        Date  TotalStepCount\n",
       "0    1503960366  2016-04-12           13158\n",
       "1    1503960366  2016-04-13           10735\n",
       "2    1503960366  2016-04-14           10460\n",
       "3    1503960366  2016-04-15            9685\n",
       "4    1503960366  2016-04-16           12669\n",
       "..          ...         ...             ...\n",
       "929  8877689391  2016-05-08           10665\n",
       "930  8877689391  2016-05-09           20156\n",
       "931  8877689391  2016-05-10           10693\n",
       "932  8877689391  2016-05-11           21391\n",
       "933  8877689391  2016-05-12            7577\n",
       "\n",
       "[934 rows x 3 columns]"
      ]
     },
     "execution_count": 13,
     "metadata": {},
     "output_type": "execute_result"
    }
   ],
   "source": [
    "# Group the data by 'Id' and 'Date' and calculate the total step count for each day\n",
    "daily_step_counts = step_hours.groupby(['Id', 'Date'])['StepTotal'].sum().reset_index()\n",
    "\n",
    "# Rename the 'StepTotal' column to 'TotalStepCount'\n",
    "daily_step_counts = daily_step_counts.rename(columns={'StepTotal': 'TotalStepCount'})\n",
    "\n",
    "# Display the result\n",
    "daily_step_counts"
   ]
  },
  {
   "cell_type": "markdown",
   "id": "85609439",
   "metadata": {},
   "source": [
    "For easier analysis, we need to combine the two sets of data to see if the current morning data affects the day's day"
   ]
  },
  {
   "cell_type": "code",
   "execution_count": 14,
   "id": "63cdb0ba",
   "metadata": {},
   "outputs": [],
   "source": [
    "data = pd.merge(daily_step_counts, step_count_6am_to_12pm, on=['Id', 'Date'])\n",
    "data['Date'] = pd.to_datetime(data['Date'])"
   ]
  },
  {
   "cell_type": "markdown",
   "id": "636221f3",
   "metadata": {},
   "source": [
    "## Data Exploration For New Dataset\n",
    "\n",
    "For the new dataset, we need to update the data processing and exploration section of the step to see what our previous dataset could not explore\n",
    "\n",
    "In the case of new data sets, we do not need to deal with missing values because we assemble the new data set based on the complete data set. It is therefore unlikely that there will be a missing value problem, but it is possible that the new data set will have some outliers that were previously unexplored.\n",
    "\n",
    "For outliers, we can check whether the data is normal by looking at the number of steps throughout the day. From personal experience, even if people are at home all day, the minimum daily step should be more than 100 because of the need for regular activities.\n",
    "\n",
    "And for some late sleepers, it is possible to get up in the afternoon, so there is no need to check the data from 6-12 o 'clock. The minimum number of hourly steps seen earlier is 0, so there is no need to consider the occurrence of negative numbers."
   ]
  },
  {
   "cell_type": "code",
   "execution_count": 15,
   "id": "355f102b",
   "metadata": {},
   "outputs": [
    {
     "data": {
      "text/html": [
       "<div>\n",
       "<style scoped>\n",
       "    .dataframe tbody tr th:only-of-type {\n",
       "        vertical-align: middle;\n",
       "    }\n",
       "\n",
       "    .dataframe tbody tr th {\n",
       "        vertical-align: top;\n",
       "    }\n",
       "\n",
       "    .dataframe thead th {\n",
       "        text-align: right;\n",
       "    }\n",
       "</style>\n",
       "<table border=\"1\" class=\"dataframe\">\n",
       "  <thead>\n",
       "    <tr style=\"text-align: right;\">\n",
       "      <th></th>\n",
       "      <th>Id</th>\n",
       "      <th>Date</th>\n",
       "      <th>TotalStepCount</th>\n",
       "      <th>StepTotal_6to12</th>\n",
       "    </tr>\n",
       "  </thead>\n",
       "  <tbody>\n",
       "    <tr>\n",
       "      <th>0</th>\n",
       "      <td>1503960366</td>\n",
       "      <td>2016-04-12</td>\n",
       "      <td>13158</td>\n",
       "      <td>3403</td>\n",
       "    </tr>\n",
       "    <tr>\n",
       "      <th>1</th>\n",
       "      <td>1503960366</td>\n",
       "      <td>2016-04-13</td>\n",
       "      <td>10735</td>\n",
       "      <td>3385</td>\n",
       "    </tr>\n",
       "    <tr>\n",
       "      <th>2</th>\n",
       "      <td>1503960366</td>\n",
       "      <td>2016-04-14</td>\n",
       "      <td>10460</td>\n",
       "      <td>2559</td>\n",
       "    </tr>\n",
       "    <tr>\n",
       "      <th>3</th>\n",
       "      <td>1503960366</td>\n",
       "      <td>2016-04-15</td>\n",
       "      <td>9685</td>\n",
       "      <td>932</td>\n",
       "    </tr>\n",
       "    <tr>\n",
       "      <th>4</th>\n",
       "      <td>1503960366</td>\n",
       "      <td>2016-04-16</td>\n",
       "      <td>12669</td>\n",
       "      <td>6308</td>\n",
       "    </tr>\n",
       "    <tr>\n",
       "      <th>...</th>\n",
       "      <td>...</td>\n",
       "      <td>...</td>\n",
       "      <td>...</td>\n",
       "      <td>...</td>\n",
       "    </tr>\n",
       "    <tr>\n",
       "      <th>926</th>\n",
       "      <td>8877689391</td>\n",
       "      <td>2016-05-08</td>\n",
       "      <td>10665</td>\n",
       "      <td>3168</td>\n",
       "    </tr>\n",
       "    <tr>\n",
       "      <th>927</th>\n",
       "      <td>8877689391</td>\n",
       "      <td>2016-05-09</td>\n",
       "      <td>20156</td>\n",
       "      <td>6748</td>\n",
       "    </tr>\n",
       "    <tr>\n",
       "      <th>928</th>\n",
       "      <td>8877689391</td>\n",
       "      <td>2016-05-10</td>\n",
       "      <td>10693</td>\n",
       "      <td>6319</td>\n",
       "    </tr>\n",
       "    <tr>\n",
       "      <th>929</th>\n",
       "      <td>8877689391</td>\n",
       "      <td>2016-05-11</td>\n",
       "      <td>21391</td>\n",
       "      <td>6933</td>\n",
       "    </tr>\n",
       "    <tr>\n",
       "      <th>930</th>\n",
       "      <td>8877689391</td>\n",
       "      <td>2016-05-12</td>\n",
       "      <td>7577</td>\n",
       "      <td>6813</td>\n",
       "    </tr>\n",
       "  </tbody>\n",
       "</table>\n",
       "<p>931 rows × 4 columns</p>\n",
       "</div>"
      ],
      "text/plain": [
       "             Id       Date  TotalStepCount  StepTotal_6to12\n",
       "0    1503960366 2016-04-12           13158             3403\n",
       "1    1503960366 2016-04-13           10735             3385\n",
       "2    1503960366 2016-04-14           10460             2559\n",
       "3    1503960366 2016-04-15            9685              932\n",
       "4    1503960366 2016-04-16           12669             6308\n",
       "..          ...        ...             ...              ...\n",
       "926  8877689391 2016-05-08           10665             3168\n",
       "927  8877689391 2016-05-09           20156             6748\n",
       "928  8877689391 2016-05-10           10693             6319\n",
       "929  8877689391 2016-05-11           21391             6933\n",
       "930  8877689391 2016-05-12            7577             6813\n",
       "\n",
       "[931 rows x 4 columns]"
      ]
     },
     "execution_count": 15,
     "metadata": {},
     "output_type": "execute_result"
    }
   ],
   "source": [
    "data"
   ]
  },
  {
   "cell_type": "markdown",
   "id": "fdec01cf",
   "metadata": {},
   "source": [
    "According to the density distribution in the figure below, there are indeed some outliers in the data, that is, the current total number of steps is less than 100.\n",
    "\n",
    "The maximum value is probably more than 30,000 steps. This is also a possible situation, so we don't need to deal with it"
   ]
  },
  {
   "cell_type": "code",
   "execution_count": 16,
   "id": "c2119cd0",
   "metadata": {},
   "outputs": [
    {
     "data": {
      "image/png": "[encoded data removed]",
      "text/plain": [
       "<Figure size 640x480 with 1 Axes>"
      ]
     },
     "metadata": {},
     "output_type": "display_data"
    }
   ],
   "source": [
    "sns.kdeplot(data[\"TotalStepCount\"], fill=True)\n",
    "plt.xlabel('Total step count')\n",
    "plt.ylabel('Density')\n",
    "plt.title('Daily step count distribution chart')\n",
    "plt.show()"
   ]
  },
  {
   "cell_type": "markdown",
   "id": "89b223a1",
   "metadata": {},
   "source": [
    "The following code selects the days when the total number of steps is greater than 100."
   ]
  },
  {
   "cell_type": "code",
   "execution_count": 17,
   "id": "f508cf97",
   "metadata": {},
   "outputs": [],
   "source": [
    "data = data[data[\"TotalStepCount\"] >= 100]"
   ]
  },
  {
   "cell_type": "markdown",
   "id": "2e2d4243",
   "metadata": {},
   "source": [
    "For the new data set, the number of data columns has been reduced from 931 rows to 844 rows."
   ]
  },
  {
   "cell_type": "code",
   "execution_count": 18,
   "id": "3674171a",
   "metadata": {},
   "outputs": [
    {
     "name": "stdout",
     "output_type": "stream",
     "text": [
      "<class 'pandas.core.frame.DataFrame'>\n",
      "Int64Index: 844 entries, 0 to 930\n",
      "Data columns (total 4 columns):\n",
      " #   Column           Non-Null Count  Dtype         \n",
      "---  ------           --------------  -----         \n",
      " 0   Id               844 non-null    int64         \n",
      " 1   Date             844 non-null    datetime64[ns]\n",
      " 2   TotalStepCount   844 non-null    int64         \n",
      " 3   StepTotal_6to12  844 non-null    int64         \n",
      "dtypes: datetime64[ns](1), int64(3)\n",
      "memory usage: 33.0 KB\n"
     ]
    }
   ],
   "source": [
    "data.info()"
   ]
  },
  {
   "cell_type": "markdown",
   "id": "008b5a02",
   "metadata": {},
   "source": [
    "## Data Visualization"
   ]
  },
  {
   "cell_type": "markdown",
   "id": "f3e24152",
   "metadata": {},
   "source": [
    "We extract the data of two columns which contain data related to the number of steps (or total steps) and contain data related to the number of steps taken during a specific time period (6am to 12am), and then assign them to the y and x variables respectively. \n",
    "\n",
    "Two variables y and x will be used in the subsequent code to perform linear regression analysis and draw a scatter plot to visualize the relationship between these two variables. "
   ]
  },
  {
   "cell_type": "code",
   "execution_count": null,
   "id": "66171c32",
   "metadata": {},
   "outputs": [],
   "source": [
    "y = data['TotalStepCount']\n",
    "x = data['StepTotal_6to12']"
   ]
  },
  {
   "cell_type": "markdown",
   "id": "b40e40f5",
   "metadata": {},
   "source": [
    "We use correlation coefficients and simple linear regression (SLR) models to analyze the relationship between two variables and describe their trends.\n",
    "\n",
    "The correlation coefficient is a statistical measure of the strength and direction of the linear relationship between two variables. The correlation coefficient is a value between -1 and 1, where 1 means a perfect positive correlation, -1 means a perfect negative correlation, and 0 means no linear relationship. In this case, the correlation coefficient is positive, which indicates a positive correlation between the variables StepTotal_6to12 and TotalStepCount. This means that when the number of steps increases between 6 a.m. and 12 a.m., the total number of steps also has a similar increasing trend.\n",
    "\n",
    "The simple linear regression model is a statistical analysis method used to establish a linear relationship model between two variables. In our case, the SLR model is used to predict how the total number of steps (TotalStepCount) changes with the number of steps (StepTotal_6to12) from 6 a.m. to 12 a.m. The equation of the SLR model can be expressed as: $TotalStepCount = m * StepTotal6to12 + b$, it can be seen from the graph that m has a positive slope, which means that more steps between 6 am and 12 am are generally associated with a higher total step count."
   ]
  },
  {
   "cell_type": "code",
   "execution_count": 25,
   "id": "f44b2ede",
   "metadata": {},
   "outputs": [
    {
     "data": {
      "image/png": "[encoded data removed]",
      "text/plain": [
       "<Figure size 1000x600 with 1 Axes>"
      ]
     },
     "metadata": {},
     "output_type": "display_data"
    }
   ],
   "source": [
    "# import required library\n",
    "from scipy.stats import pearsonr\n",
    "\n",
    "# Calculate linear regression\n",
    "coefficients = np.polyfit(x, y, 1)\n",
    "polynomial = np.poly1d(coefficients)\n",
    "x_fit = np.linspace(min(x), max(x), 100)\n",
    "y_fit = polynomial(x_fit)\n",
    "correlation_coefficient, _ = pearsonr(x, y)\n",
    "\n",
    "# Draw and adjust the size of the figure\n",
    "plt.figure(figsize=(10, 6))\n",
    "\n",
    "plt.scatter(x, y, label='Scatter Plot',color = 'green', alpha = 0.2)\n",
    "plt.plot(x_fit, y_fit, color='red', label='Fitted Line')\n",
    "\n",
    "# Present correlation coefficient and SLR model\n",
    "plt.xlabel('StepTotal_6to12')\n",
    "plt.ylabel('TotalStepCount')\n",
    "plt.title('Scatter Plot with Fitted Line')\n",
    "plt.legend()\n",
    "plt.grid(True)\n",
    "plt.show()\n"
   ]
  },
  {
   "cell_type": "markdown",
   "id": "a9657663",
   "metadata": {},
   "source": [
    "We further verified the relationship through calculations, but from the plot and formulas we can find that the intercept is around 5000, which is still a large number and may contains some deviations."
   ]
  },
  {
   "cell_type": "code",
   "execution_count": 27,
   "id": "999f9e7e",
   "metadata": {},
   "outputs": [
    {
     "name": "stdout",
     "output_type": "stream",
     "text": [
      "Linear Regression Model: TotalStepCount = 0.97 * StepTotal_6to12 + 5359.97\n",
      "Correlation Coefficient: 0.58\n"
     ]
    }
   ],
   "source": [
    "# Print linear regression equation\n",
    "print(f\"Linear Regression Model: TotalStepCount = {coefficients[0]:.2f} * StepTotal_6to12 + {coefficients[1]:.2f}\")\n",
    "\n",
    "# Print correlation coefficient\n",
    "print(f\"Correlation Coefficient: {correlation_coefficient:.2f}\")"
   ]
  },
  {
   "cell_type": "markdown",
   "id": "d00777a4",
   "metadata": {},
   "source": [
    "### Classify and analyzation"
   ]
  },
  {
   "cell_type": "markdown",
   "id": "6d813f8b",
   "metadata": {},
   "source": [
    "First, the code groups the data by the \"Id\" column through the groupby function and calculates the median of the \"StepTotal_6to12\" column for each group, storing the result in median_per_id. Then, the median of all \"Id\" groups is calculated and stored in overall_median. This value represents the overall median.\n",
    "\n",
    "In addition, divide \"Ids\" into two groups by comparing the \"StepTotal_6to12\" median of each \"Id\" group to the overall median:\n",
    "- more_than_median_ids contains those \"Ids\" whose median is greater than or equal to the overall median.\n",
    "- less_than_median_ids contains those \"Ids\" whose median is less than the overall median.\n",
    "\n",
    "This classification splits the \"Id\" groups into two groups based on how their \"StepTotal_6to12\" medians relate to the overall median, allowing comparison of trends in their medians. This helps analyze trends and distributions between different groups for further data analysis and decision-making."
   ]
  },
  {
   "cell_type": "code",
   "execution_count": 30,
   "id": "f32e91bc",
   "metadata": {},
   "outputs": [],
   "source": [
    "median_per_id = data.groupby(\"Id\")[\"StepTotal_6to12\"].median()\n",
    "overall_median = np.median(median_per_id)\n",
    "\n",
    "more_than_median_ids = median_per_id[median_per_id >= overall_median].index\n",
    "less_than_median_ids = median_per_id[median_per_id < overall_median].index"
   ]
  },
  {
   "cell_type": "markdown",
   "id": "963cf62f",
   "metadata": {},
   "source": [
    "The following step uses grouping again, this time by \"Id\" and calculates the median of the \"TotalStepCount\" column for each \"Id\" group, storing the results in more_than_median_data and less_than_median_data. The data represents the median total number of steps for both sets of \"Ids\", which are divided into groups above and below the overall median, and their distribution would be visualized by boxplots."
   ]
  },
  {
   "cell_type": "code",
   "execution_count": 31,
   "id": "e46546cd",
   "metadata": {},
   "outputs": [],
   "source": [
    "data_total = data.groupby(\"Id\")[\"TotalStepCount\"].median()\n",
    "\n",
    "more_than_median_data = data_total[data_total.index.isin(more_than_median_ids)]\n",
    "less_than_median_data = data_total[data_total.index.isin(less_than_median_ids)]\n",
    "\n",
    "more_than_median_data = more_than_median_data.reset_index()\n",
    "less_than_median_data = less_than_median_data.reset_index()"
   ]
  },
  {
   "cell_type": "markdown",
   "id": "4b5be4f1",
   "metadata": {},
   "source": [
    "We use boxplots to compare the distribution for two sets of \"Ids\". The boxplot is a tool for visualizing the distribution of data, allowing us to observe patterns and differences related to the median total number of steps.\n",
    "\n",
    "It can be found from the figure that the box plot of the \"More than Median\" group is above the \"Less than Median\" group. Moreover, the center line of the boxplot represents the median. Comparing the median positions of two sets of \"Ids\" can reveal their differences. It can be seen from the figure that the midline of the boxplot of 'more than median' is located above the boxplot of 'less than median', which means that the group has a higher median total number of steps. These shows that people who take more steps in the morning take more steps throughout the day."
   ]
  },
  {
   "cell_type": "code",
   "execution_count": 41,
   "id": "655c5571",
   "metadata": {},
   "outputs": [
    {
     "data": {
      "text/plain": [
       "<Figure size 1000x600 with 0 Axes>"
      ]
     },
     "metadata": {},
     "output_type": "display_data"
    },
    {
     "data": {
      "image/png": "[encoded data removed]",
      "text/plain": [
       "<Figure size 900x600 with 1 Axes>"
      ]
     },
     "metadata": {},
     "output_type": "display_data"
    }
   ],
   "source": [
    "import matplotlib.pyplot as plt\n",
    "import seaborn as sns\n",
    "\n",
    "more_than_median_data['Category'] = 'More than Median'\n",
    "less_than_median_data['Category'] = 'Less than Median'\n",
    "\n",
    "combined_data = pd.concat([more_than_median_data, less_than_median_data])\n",
    "plt.figure(figsize=(10, 6))\n",
    "\n",
    "sns.catplot(x='Category', y='TotalStepCount', data=combined_data, kind='box', palette=['skyblue', 'lightcoral'], height=6, aspect=1.5)\n",
    "plt.xlabel('Category')\n",
    "plt.ylabel('TotalStepCount')\n",
    "plt.title('Boxplot of TotalStepCount for IDs more and less than median')\n",
    "plt.tight_layout()\n",
    "plt.show()"
   ]
  },
  {
   "cell_type": "markdown",
   "id": "9f9f7053",
   "metadata": {},
   "source": [
    "### Hypothesis verification"
   ]
  },
  {
   "cell_type": "markdown",
   "id": "0bd4cc13",
   "metadata": {},
   "source": [
    "$H_0$: Morning step count does not related to total step count.\n",
    "\n",
    "$H_1$: People who take more steps in the morning take more total steps."
   ]
  },
  {
   "cell_type": "markdown",
   "id": "64685958",
   "metadata": {},
   "source": [
    "We uses the Pearson correlation coefficient to measure the linear relationship between two sets of data. Based on the sign of the correlation coefficient, calculate the p value and perform hypothesis testing. If the p-value is less than the significance level alpha (usually 0.05), then the null hypothesis is rejected in favor of the alternative hypothesis, indicating that people who take more steps in the morning take more total steps. Otherwise, the null hypothesis cannot be rejected and it is considered that the two are unrelated."
   ]
  },
  {
   "cell_type": "code",
   "execution_count": 65,
   "id": "1221e4d7",
   "metadata": {
    "scrolled": true
   },
   "outputs": [
    {
     "name": "stdout",
     "output_type": "stream",
     "text": [
      "t-statistic: 2.648033831818025\n",
      "p-value: 0.012617032262134663\n"
     ]
    }
   ],
   "source": [
    "import scipy.stats as stats\n",
    "t_statistic, p_value = stats.ttest_ind(more_than_median_data[\"TotalStepCount\"], less_than_median_data[\"TotalStepCount\"])\n",
    "print(f\"t-statistic: {t_statistic}\")\n",
    "print(f\"p-value: {p_value}\")"
   ]
  },
  {
   "cell_type": "markdown",
   "id": "827c54b5",
   "metadata": {},
   "source": [
    "As the p-value is less than the significance level (usually 0.05), the null hypothesis can be rejected, and the alternative hypothesis is accepted."
   ]
  },
  {
   "cell_type": "markdown",
   "id": "b1d83ebb",
   "metadata": {},
   "source": [
    "## Results\n",
    "\n",
    "From the given box plot, it's clear that the median of the \"More than Median\" group is higher than that of the \"Less than Median\" group, indicating that individuals who walk more steps in the morning than the median also take more steps throughout the day. The t-test further confirms this observation, as the p-value (0.0126) is less than 0.05, indicating statistical significance. Both the box plot and the t-test show a positive correlation between morning activity and daily steps.\n",
    "\n",
    "# Summary\n",
    "\n",
    "Through data processing, box plot visualization, and t-test statistical testing, we found that those who take more steps in the morning also take more steps throughout the day. This observation suggests that increasing morning activity could be an effective way to increase daily activity and exercise. However, this is just a correlational observation, and further experiments and analyses are required to determine the causality between the two."
   ]
  }
 ],
 "metadata": {
  "kernelspec": {
   "display_name": "Python 3 (ipykernel)",
   "language": "python",
   "name": "python3"
  },
  "language_info": {
   "codemirror_mode": {
    "name": "ipython",
    "version": 3
   },
   "file_extension": ".py",
   "mimetype": "text/x-python",
   "name": "python",
   "nbconvert_exporter": "python",
   "pygments_lexer": "ipython3",
   "version": "3.9.13"
  }
 },
 "nbformat": 4,
 "nbformat_minor": 5
}
